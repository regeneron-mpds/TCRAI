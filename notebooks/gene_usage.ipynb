{
 "cells": [
  {
   "cell_type": "markdown",
   "metadata": {},
   "source": [
    "Copyright 2021 Regeneron Pharmaceuticals Inc. All rights reserved.\n",
    "\n",
    "License for Non-Commercial Use of TCRAI code\n",
    "\n",
    "All files in this repository (“source code”) are licensed under the following terms below:\n",
    "\n",
    "“You” refers to an academic institution or academically employed full-time personnel only. \n",
    "\n",
    "“Regeneron” refers to Regeneron Pharmaceuticals, Inc.\n",
    "\n",
    "Regeneron hereby grants You a right to use, reproduce, modify, or distribute the source code to the TCRAI algorithms, in whole or in part, whether in original or modified form, for academic research purposes only.  The foregoing right is royalty-free, worldwide, revocable, non-exclusive, and non-transferable.  \n",
    "\n",
    "Prohibited Uses:  The rights granted herein do not include any right to use by commercial entities or commercial use of any kind, including, without limitation, any integration into other code or software that is used for further commercialization, any reproduction, copy, modification or creation of a derivative work that is then incorporated into a commercial product or service or otherwise used for any commercial purpose, or distribution of the source code not in conformity with the restrictions set forth above, whether in whole or in part and whether in original or modified form, and any such commercial usage is not permitted.  \n",
    "\n",
    "Except as expressly provided for herein, nothing in this License grants to You any right, title or interest in and to the intellectual property of Regeneron (either expressly or by implication or estoppel).  Notwithstanding anything else in this License, nothing contained herein shall limit or compromise the rights of Regeneron with respect to its own intellectual property or limit its freedom to practice and to develop its products and product candidates.\n",
    "\n",
    "If the source code, whole or in part and in original or modified form, is reproduced, shared or distributed in any manner, it must (1) identify Regeneron Pharmaceuticals, Inc. as the original creator, and (2) include the terms of this License.  \n",
    "\n",
    "UNLESS OTHERWISE SEPARATELY AGREED UPON, THE SOURCE CODE IS PROVIDED ON AN AS-IS BASIS, AND REGENERON PHARMACEUTICALS, INC. MAKES NO REPRESENTATIONS OR WARRANTIES OF ANY KIND CONCERNING THE SOURCE CODE, IN WHOLE OR IN PART AND IN ORIGINAL OR MODIFIED FORM, WHETHER EXPRESS, IMPLIED, STATUTORY, OR OTHER REPRESENTATIONS OR WARRANTIES. THIS INCLUDES, WITHOUT LIMITATION, WARRANTIES OF TITLE, MERCHANTABILITY, FITNESS FOR A PARTICULAR PURPOSE, NON-INFRINGEMENT, ABSENCE OF LATENT OR OTHER DEFECTS, ACCURACY, OR THE PRESENCE OR ABSENCE OF ERRORS, WHETHER OR NOT KNOWN OR DISCOVERABLE. \n",
    "\n",
    "In no case shall Regeneron be liable for any loss, claim, damage, or expenses, of any kind, which may arise from or in connection with this License or the use of the source code. You shall indemnify and hold Regeneron and its employees harmless from any loss, claim, damage, expenses, or liability, of any kind, from a third-party which may arise from or in connection with this License or Your use of the source code. \n",
    "\n",
    "You agree that this License and its terms are governed by the laws of the State of New York, without regard to choice of law rules or the United Nations Convention on the International Sale of Goods.\n",
    "\n",
    "Please reach out to Regeneron Pharmaceuticals Inc./Administrator relating to any non-academic or commercial use of the source code."
   ]
  },
  {
   "cell_type": "markdown",
   "metadata": {},
   "source": [
    "### Notebook for plotting Gene Usage diagrams\n",
    "\n",
    "Note that to run this notebook, one will also require plotly : pip install plotly "
   ]
  },
  {
   "cell_type": "code",
   "execution_count": 1,
   "metadata": {
    "execution": {
     "iopub.execute_input": "2021-01-10T15:46:44.535452Z",
     "iopub.status.busy": "2021-01-10T15:46:44.535290Z",
     "iopub.status.idle": "2021-01-10T15:46:45.170445Z",
     "shell.execute_reply": "2021-01-10T15:46:45.169958Z",
     "shell.execute_reply.started": "2021-01-10T15:46:44.535433Z"
    }
   },
   "outputs": [],
   "source": [
    "import pandas as pd\n",
    "import plotly.graph_objects as go\n",
    "import plotly.express as px\n",
    "import os"
   ]
  },
  {
   "cell_type": "markdown",
   "metadata": {},
   "source": [
    "define where to load the tcr data for each cluster from, and where to save output\n",
    "\n",
    "motif_dir0 should be set to the location of saved clusters for a dataset. scripts/motif_kmeans.py automatically saves results into a directory structure that will work with this simple script."
   ]
  },
  {
   "cell_type": "code",
   "execution_count": 2,
   "metadata": {
    "execution": {
     "iopub.execute_input": "2021-01-10T15:46:45.171474Z",
     "iopub.status.busy": "2021-01-10T15:46:45.171302Z",
     "iopub.status.idle": "2021-01-10T15:46:45.174109Z",
     "shell.execute_reply": "2021-01-10T15:46:45.173646Z",
     "shell.execute_reply.started": "2021-01-10T15:46:45.171455Z"
    }
   },
   "outputs": [],
   "source": [
    "motif_dir0 = '../analysis/motif/CNN-prediction-with-REGN-pilot-version-2'\n",
    "output_dir = os.path.join(os.path.expanduser('~'),'TCRAI_OUTPUT','gene_plots')"
   ]
  },
  {
   "cell_type": "code",
   "execution_count": 3,
   "metadata": {
    "execution": {
     "iopub.execute_input": "2021-01-10T15:46:45.175193Z",
     "iopub.status.busy": "2021-01-10T15:46:45.175039Z",
     "iopub.status.idle": "2021-01-10T15:46:45.181278Z",
     "shell.execute_reply": "2021-01-10T15:46:45.180850Z",
     "shell.execute_reply.started": "2021-01-10T15:46:45.175175Z"
    }
   },
   "outputs": [],
   "source": [
    "def save_figure(df_cluster, pmhc, cluster, counts=1):\n",
    "    fig = go.Figure(go.Parcats(\n",
    "        dimensions=[\n",
    "            {'label': 'TRBV',\n",
    "             'values': df_cluster['TRB_v_gene'].values},\n",
    "            {'label': 'TRBJ',\n",
    "             'values': df_cluster['TRB_j_gene'].values},\n",
    "            {'label': 'TRAV',\n",
    "             'values': df_cluster['TRA_v_gene'].values},\n",
    "            {'label': 'TRAJ',\n",
    "             'values': df_cluster['TRA_j_gene'].values},\n",
    "        ],\n",
    "        line={'color': pd.factorize(df_cluster['TRB_v_gene'])[0], #df_cluster['size'].values, \n",
    "              'colorscale': 'Rainbow',\n",
    "              'shape': 'hspline'},\n",
    "        bundlecolors=True,\n",
    "        sortpaths='forward',\n",
    "        labelfont=go.parcats.Labelfont(size=14),\n",
    "        tickfont=go.parcats.Tickfont(size=11),\n",
    "        counts=counts\n",
    "\n",
    "    ))\n",
    "\n",
    "    fig.update_layout(\n",
    "        autosize=False,\n",
    "        width=500,\n",
    "        height=200,\n",
    "        margin=dict(\n",
    "            l=40,\n",
    "            r=40,\n",
    "            b=40,\n",
    "            t=40,\n",
    "            pad=4\n",
    "        ),\n",
    "    )\n",
    "    fig.write_image(os.path.join(output_dir, pmhc+'_cluster'+str(cluster)+'.pdf') )"
   ]
  },
  {
   "cell_type": "code",
   "execution_count": 4,
   "metadata": {
    "execution": {
     "iopub.execute_input": "2021-01-10T15:46:45.182112Z",
     "iopub.status.busy": "2021-01-10T15:46:45.181961Z",
     "iopub.status.idle": "2021-01-10T15:46:46.406592Z",
     "shell.execute_reply": "2021-01-10T15:46:46.406033Z",
     "shell.execute_reply.started": "2021-01-10T15:46:45.182094Z"
    }
   },
   "outputs": [
    {
     "name": "stdout",
     "output_type": "stream",
     "text": [
      "GLCTLVAML 0\n",
      "GLCTLVAML 1\n",
      "GLCTLVAML 2\n",
      "GLCTLVAML 3\n",
      "GLCTLVAML 4\n",
      "GILGFVFTL 0\n",
      "235\n",
      "GILGFVFTL 1\n"
     ]
    }
   ],
   "source": [
    "for pmhc in ['GLCTLVAML','GILGFVFTL']:\n",
    "    for cluster in range(5):\n",
    "        motif_dir = os.path.join(motif_dir0,pmhc)\n",
    "        motif_dir = os.path.join(motif_dir,'cluster_'+str(cluster))\n",
    "        \n",
    "        try:\n",
    "            df_cluster = pd.read_csv(os.path.join(motif_dir,pmhc+'_df_cluster'+str(cluster)+'.csv'))\n",
    "        except:\n",
    "            continue\n",
    "\n",
    "        df_cluster['joint_genes'] = df_cluster['TRB_v_gene']+df_cluster['TRB_j_gene']+df_cluster['TRA_v_gene']+df_cluster['TRA_j_gene']\n",
    "\n",
    "        gene_counts = df_cluster['joint_genes'].value_counts()\n",
    "\n",
    "        df_cluster['size'] = df_cluster['joint_genes'].map(lambda x : gene_counts[x])\n",
    "        print(pmhc,cluster)\n",
    "        save_figure(df_cluster, pmhc, cluster)\n",
    "        if pmhc=='GILGFVFTL':\n",
    "            if cluster==0:\n",
    "                joint_counts = df_cluster['joint_genes'].value_counts()\n",
    "                print(len(joint_counts))\n",
    "                save_figure(df_cluster[df_cluster['joint_genes'].map(lambda x: x in list(joint_counts.index[:30]))], \n",
    "                            pmhc, \n",
    "                            cluster,\n",
    "                            counts=1)\n"
   ]
  },
  {
   "cell_type": "code",
   "execution_count": null,
   "metadata": {},
   "outputs": [],
   "source": []
  },
  {
   "cell_type": "code",
   "execution_count": null,
   "metadata": {},
   "outputs": [],
   "source": []
  }
 ],
 "metadata": {
  "kernelspec": {
   "display_name": "plotly",
   "language": "python",
   "name": "plotly"
  },
  "language_info": {
   "codemirror_mode": {
    "name": "ipython",
    "version": 3
   },
   "file_extension": ".py",
   "mimetype": "text/x-python",
   "name": "python",
   "nbconvert_exporter": "python",
   "pygments_lexer": "ipython3",
   "version": "3.6.12"
  }
 },
 "nbformat": 4,
 "nbformat_minor": 4
}
